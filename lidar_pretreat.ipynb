{
 "cells": [
  {
   "cell_type": "code",
   "execution_count": 1,
   "metadata": {},
   "outputs": [
    {
     "name": "stderr",
     "output_type": "stream",
     "text": [
      "2022-07-01 19:14:17.819371: W tensorflow/stream_executor/platform/default/dso_loader.cc:64] Could not load dynamic library 'libcudart.so.11.0'; dlerror: libcudart.so.11.0: cannot open shared object file: No such file or directory; LD_LIBRARY_PATH: /usr/local/cuda/lib64:/usr/local/cuda/lib64:\n",
      "2022-07-01 19:14:17.819387: I tensorflow/stream_executor/cuda/cudart_stub.cc:29] Ignore above cudart dlerror if you do not have a GPU set up on your machine.\n"
     ]
    }
   ],
   "source": [
    "import os\n",
    "import sys\n",
    "import numpy as np\n",
    "sys.path.insert(0, os.path.dirname(os.getcwd()))\n",
    "import tensorflow as tf\n",
    "import numpy as np\n",
    "from waymo_open_dataset import dataset_pb2 as open_dataset\n",
    "from utils import lidar_crop, save_darknet, label_in_polygon"
   ]
  },
  {
   "cell_type": "code",
   "execution_count": null,
   "metadata": {},
   "outputs": [],
   "source": [
    "TOO_DARK_THRESHOLD = 50"
   ]
  },
  {
   "cell_type": "code",
   "execution_count": null,
   "metadata": {},
   "outputs": [],
   "source": [
    "training_files = ['Data/lidar tests/training/' + file for file in os.listdir('Data/lidar tests/training')]\n",
    "dataset = tf.data.TFRecordDataset(training_files, buffer_size=tf.constant(int(pow(10,6)), tf.int64), num_parallel_reads=16)\n",
    "OUTPUT_PATH = 'Data/darknet-data'\n",
    "img_id = len(os.listdir(f'{OUTPUT_PATH}/obj')) // 2\n",
    "\n",
    "training_index = open('Data/darknet-data/training.txt', 'w')\n",
    "print('Processing training data')\n",
    "for data in dataset:\n",
    "    frame = open_dataset.Frame()\n",
    "    frame.ParseFromString(bytearray(data.numpy()))\n",
    "    image = frame.images[0]\n",
    "    image = np.array(tf.io.decode_jpeg(image.image))\n",
    "\n",
    "    if np.mean(image) < TOO_DARK_THRESHOLD:\n",
    "        continue\n",
    "    \n",
    "    og_width = image.shape[1]\n",
    "    og_height = image.shape[0]\n",
    "    (image, labels) = lidar_crop(frame, image)\n",
    "    labels = [label for label in labels if label_in_polygon(label, image, 0.25)]\n",
    "    \n",
    "    save_darknet(image, labels, OUTPUT_PATH, og_width, og_height, training_index, img_id)\n",
    "    \n",
    "    img_id += 1\n",
    "    if img_id % 100 == 0:\n",
    "        print(img_id)\n",
    "\n",
    "training_index.close()"
   ]
  },
  {
   "cell_type": "code",
   "execution_count": null,
   "metadata": {},
   "outputs": [],
   "source": [
    "validation_files = ['Data/lidar tests/validation/' + file for file in os.listdir('Data/lidar tests/validation')]\n",
    "dataset = tf.data.TFRecordDataset(validation_files, buffer_size=tf.constant(int(pow(10,6)), tf.int64), num_parallel_reads=16)\n",
    "\n",
    "validation_index = open('Data/darknet-data/validation.txt', 'w')\n",
    "img_id = len(os.listdir(f'{OUTPUT_PATH}/obj')) // 2\n",
    "\n",
    "print('Processing validation data')\n",
    "for data in dataset:\n",
    "    frame = open_dataset.Frame()\n",
    "    frame.ParseFromString(bytearray(data.numpy()))\n",
    "    image = frame.images[0]\n",
    "    image = np.array(tf.io.decode_jpeg(image.image))\n",
    "\n",
    "    if np.mean(image) < TOO_DARK_THRESHOLD:\n",
    "        continue\n",
    "    \n",
    "    og_width = image.shape[1]\n",
    "    og_height = image.shape[0]\n",
    "    (image, labels) = lidar_crop(frame, image)\n",
    "    \n",
    "    save_darknet(image, labels, OUTPUT_PATH, og_width, og_height, validation_index, img_id)\n",
    "    \n",
    "    img_id += 1\n",
    "    if img_id % 100 == 0:\n",
    "        print(img_id)\n",
    "\n",
    "validation_index.close()"
   ]
  }
 ],
 "metadata": {
  "kernelspec": {
   "display_name": "Python 3.8.13 ('mti830-3d')",
   "language": "python",
   "name": "python3"
  },
  "language_info": {
   "codemirror_mode": {
    "name": "ipython",
    "version": 3
   },
   "file_extension": ".py",
   "mimetype": "text/x-python",
   "name": "python",
   "nbconvert_exporter": "python",
   "pygments_lexer": "ipython3",
   "version": "3.8.13"
  },
  "orig_nbformat": 4,
  "vscode": {
   "interpreter": {
    "hash": "b69184622dfefc4f97e5135018ed6d3c41e22e1b75804b24dc791ffa51790783"
   }
  }
 },
 "nbformat": 4,
 "nbformat_minor": 2
}
