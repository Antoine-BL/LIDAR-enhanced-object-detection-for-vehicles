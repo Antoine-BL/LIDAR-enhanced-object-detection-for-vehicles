{
 "cells": [
  {
   "cell_type": "markdown",
   "metadata": {},
   "source": [
    "#### Library imports"
   ]
  },
  {
   "cell_type": "code",
   "execution_count": null,
   "metadata": {},
   "outputs": [],
   "source": [
    "%pip install waymo-open-dataset-tf-2-6-0"
   ]
  },
  {
   "cell_type": "code",
   "execution_count": null,
   "metadata": {},
   "outputs": [],
   "source": [
    "import os\n",
    "from os import path\n",
    "\n",
    "import matplotlib.pyplot as plt\n",
    "import matplotlib.patches as patches\n",
    "\n",
    "import tensorflow as tf\n",
    "\n",
    "import waymo_open_dataset\n",
    "from waymo_open_dataset.utils import  frame_utils\n",
    "from waymo_open_dataset import dataset_pb2 as open_dataset"
   ]
  },
  {
   "cell_type": "markdown",
   "metadata": {},
   "source": [
    "#### Utils"
   ]
  },
  {
   "cell_type": "code",
   "execution_count": null,
   "metadata": {},
   "outputs": [],
   "source": [
    "CAMERA_INDEXES = {\n",
    "  'FRONT': 0\n",
    "}\n",
    "\n",
    "def frame_reader(target_dir, cam_label = 'FRONT'):\n",
    "    files = os.listdir(target_dir)\n",
    "    for file in files:\n",
    "        if path.isdir(file):\n",
    "            continue\n",
    "        for frame in _file_frame_reader(target_dir + '/' + file, cam_label):\n",
    "            yield frame\n",
    "\n",
    "\n",
    "def _file_frame_reader(file, cam_label):\n",
    "    dataset = tf.data.TFRecordDataset(file, compression_type='')\n",
    "    for data in dataset:\n",
    "        frame = open_dataset.Frame()\n",
    "        frame.ParseFromString(bytearray(data.numpy()))\n",
    "        image = frame.images[CAMERA_INDEXES[cam_label]]\n",
    "        labels = [camera_labels for camera_labels in frame.camera_labels if camera_labels.name == CAMERA_INDEXES[cam_label] + 1]\n",
    "        yield (image, labels)\n",
    "\n",
    "def show_camera_image(camera_image, camera_labels, layout, cmap=None):\n",
    "  \"\"\"Show a camera image and the given camera labels.\"\"\"\n",
    "\n",
    "  ax = plt.subplot(*layout)\n",
    "\n",
    "  for camera_label in camera_labels:\n",
    "    # Draw the camera labels.\n",
    "    # Iterate over the individual labels.\n",
    "    for label in camera_label.labels:\n",
    "      # Draw the object bounding box.\n",
    "      ax.add_patch(patches.Rectangle(\n",
    "        xy=(label.box.center_x - 0.5 * label.box.length,\n",
    "            label.box.center_y - 0.5 * label.box.width),\n",
    "        width=label.box.length,\n",
    "        height=label.box.width,\n",
    "        linewidth=1,\n",
    "        edgecolor='red',\n",
    "        facecolor='none'))\n",
    "\n",
    "  # Show the camera image.\n",
    "  plt.imshow(tf.image.decode_jpeg(camera_image.image), cmap=cmap)\n",
    "  plt.title(open_dataset.CameraName.Name.Name(camera_image.name))\n",
    "  plt.grid(False)\n",
    "  plt.axis('off')"
   ]
  },
  {
   "cell_type": "markdown",
   "metadata": {},
   "source": [
    "#### Test read"
   ]
  },
  {
   "cell_type": "code",
   "execution_count": null,
   "metadata": {},
   "outputs": [],
   "source": [
    "plt.figure(figsize=(25, 20))\n",
    "reader = frame_reader('Data/training')\n",
    "for (image, labels) in reader:\n",
    "  show_camera_image(image, labels, [3, 3, 1])\n",
    "  plt.show()\n",
    "  \n",
    "  key = input()\n",
    "  if key == 'z':\n",
    "    break "
   ]
  },
  {
   "cell_type": "code",
   "execution_count": null,
   "metadata": {},
   "outputs": [],
   "source": [
    "\n",
    "\n",
    "\n",
    "\n",
    "\n",
    "\n"
   ]
  }
 ],
 "metadata": {
  "interpreter": {
   "hash": "165dee96166e38f867ab198e17037c62b0f45400d4bc3c5d591e17fc1d2a0d4f"
  },
  "kernelspec": {
   "display_name": "Python 3.9.12 ('mti830')",
   "language": "python",
   "name": "python3"
  },
  "language_info": {
   "codemirror_mode": {
    "name": "ipython",
    "version": 3
   },
   "file_extension": ".py",
   "mimetype": "text/x-python",
   "name": "python",
   "nbconvert_exporter": "python",
   "pygments_lexer": "ipython3",
   "version": "3.9.12"
  },
  "orig_nbformat": 4
 },
 "nbformat": 4,
 "nbformat_minor": 2
}
