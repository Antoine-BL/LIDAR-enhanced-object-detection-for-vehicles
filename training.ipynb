{
 "cells": [
  {
   "cell_type": "code",
   "execution_count": null,
   "metadata": {},
   "outputs": [],
   "source": [
    "import os\n",
    "\n",
    "def frame_reader(target_dir):\n",
    "    files = os.listdir(target_dir)\n",
    "    for file in files:\n",
    "        if file.isdirectory():\n",
    "            continue\n",
    "        for frame in frame_reader(file)\n",
    "            yield frame\n",
    "\n",
    "def _frame_reader"
   ]
  }
 ],
 "metadata": {
  "language_info": {
   "name": "python"
  },
  "orig_nbformat": 4
 },
 "nbformat": 4,
 "nbformat_minor": 2
}
