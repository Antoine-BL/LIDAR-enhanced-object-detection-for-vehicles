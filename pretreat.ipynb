{
 "cells": [
  {
   "cell_type": "code",
   "execution_count": 1,
   "source": [
    "import os\n",
    "from os import path, listdir\n",
    "import tensorflow as tf\n",
    "\n",
    "import tensorflow as tf\n",
    "\n",
    "import waymo_open_dataset\n",
    "from waymo_open_dataset.utils import  frame_utils\n",
    "from waymo_open_dataset import dataset_pb2 as open_dataset\n",
    "\n",
    "import utils\n",
    "from utils import extract_and_serialize_frame, deserialize_example\n",
    "\n",
    "import matplotlib.pyplot as plt\n",
    "\n",
    "import numpy as np\n",
    "\n",
    "import tarfile"
   ],
   "outputs": [],
   "metadata": {}
  },
  {
   "cell_type": "code",
   "execution_count": 14,
   "source": [
    "def convert_waymo_data(tar_dir, temp_dir, tgt_dir, nb_tar):\n",
    "    tars = [path.join(tar_dir, file) for file in listdir(tar_dir)]\n",
    "\n",
    "    for (idx, tar) in enumerate(tars):\n",
    "        if idx >= nb_tar:\n",
    "            break\n",
    "        print(f\"Extracting {tar} to {temp_dir}\")\n",
    "        tar_file = tarfile.open(tar, 'r:')\n",
    "        tar_file.extractall(temp_dir)\n",
    "        tar_file.close()\n",
    "\n",
    "        parsed_file = path.join(tgt_dir, 'parsed-' + str(idx).rjust(3, '0') + '.tfrecord')\n",
    "        license_file = f'{temp_dir}/LICENSE'\n",
    "\n",
    "        print(f'Deleting LICENSE file {temp_dir}/LICENSE')\n",
    "        if path.exists(license_file):\n",
    "            os.remove(license_file)\n",
    "        temp_files = [f'{temp_dir}/{file}' for file in listdir(temp_dir)]\n",
    "\n",
    "        print(f\"Parsing data and writing to {parsed_file}\")\n",
    "        dataset = tf.data.TFRecordDataset(temp_files)\n",
    "        writer = tf.io.TFRecordWriter(parsed_file)\n",
    "        for (idx, data) in enumerate(dataset):\n",
    "            if idx % 100 == 0:\n",
    "                print(f'Processed {idx} frames')\n",
    "            converted = extract_and_serialize_frame(data)\n",
    "            writer.write(converted)\n",
    "        writer.close()\n",
    "\n",
    "        print(f\"Deleting temp files from {temp_dir}\")\n",
    "        for file in temp_files:\n",
    "            os.remove(file)"
   ],
   "outputs": [],
   "metadata": {}
  },
  {
   "cell_type": "code",
   "execution_count": 15,
   "source": [
    "convert_waymo_data('Data/training/tar', 'Data/training/unprocessed', 'Data/training/parsed', 15)\n"
   ],
   "outputs": [
    {
     "output_type": "stream",
     "name": "stdout",
     "text": [
      "Deleting LICENSE file Data/training/unprocessed/LICENSE\n",
      "Parsing data and writing to Data/training/parsed/parsed-000.tfrecord\n",
      "Deleting temp files from Data/training/unprocessed\n"
     ]
    }
   ],
   "metadata": {}
  },
  {
   "cell_type": "code",
   "execution_count": null,
   "source": [],
   "outputs": [],
   "metadata": {}
  }
 ],
 "metadata": {
  "orig_nbformat": 4,
  "language_info": {
   "name": "python",
   "version": "3.9.12",
   "mimetype": "text/x-python",
   "codemirror_mode": {
    "name": "ipython",
    "version": 3
   },
   "pygments_lexer": "ipython3",
   "nbconvert_exporter": "python",
   "file_extension": ".py"
  },
  "kernelspec": {
   "name": "python3",
   "display_name": "Python 3.9.12 64-bit ('mti830': conda)"
  },
  "interpreter": {
   "hash": "32a546c37cb5454deb6caa194aa602f857ba2d1d6ca86a6f67cf7d8194a16d99"
  }
 },
 "nbformat": 4,
 "nbformat_minor": 2
}